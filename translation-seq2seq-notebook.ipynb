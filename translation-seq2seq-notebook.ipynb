{
  "cells": [
    {
      "cell_type": "markdown",
      "metadata": {
        "id": "Ho2RzxjO-S2w"
      },
      "source": [
        "# **Modèle de traduction seq2seq avec mécanismes d'attention**"
      ]
    },
    {
      "cell_type": "markdown",
      "metadata": {
        "id": "7Bx7zuIf-hna"
      },
      "source": [
        "# Installation des packages"
      ]
    },
    {
      "cell_type": "markdown",
      "metadata": {
        "id": "HKmx-l6mxgR8"
      },
      "source": [
        "Dans cette partie, nous installons les packages `einops` et `tensorflow-text`. Ces packages sont essentiels pour la manipulation de données et le traitement du langage naturel avec TensorFlow.\n",
        "\n",
        "- `einops` est une bibliothèque Python qui permet une manipulation flexible et expressive des axes des tenseurs. Cela facilite la réorganisation des dimensions et le traitement des données dans les réseaux de neurones.\n",
        "- `tensorflow-text` est une extension de TensorFlow spécialement conçue pour le traitement du langage naturel (NLP). Il fournit diverses fonctionnalités de prétraitement de texte et des méthodes d'encodage de texte pour une utilisation avec les modèles NLP.\n"
      ]
    },
    {
      "cell_type": "code",
      "execution_count": null,
      "metadata": {
        "id": "yDTen0627opF"
      },
      "outputs": [],
      "source": [
        "!pip install einops\n",
        "!pip install tensorflow-text"
      ]
    },
    {
      "cell_type": "markdown",
      "metadata": {
        "id": "olay_ypX-lZt"
      },
      "source": [
        "# Librairies et modules"
      ]
    },
    {
      "cell_type": "markdown",
      "metadata": {
        "id": "w-wgZ5zyxif8"
      },
      "source": [
        "Dans cette partie, nous importons les bibliothèques et modules nécessaires pour le reste du code. Voici une explication des principales importations :\n",
        "\n",
        "- `numpy` est une bibliothèque Python utilisée pour effectuer des calculs numériques et des opérations sur des tableaux multidimensionnels (nombres réels, vecteurs, matrices, etc.).\n",
        "- `typing` est un module Python qui fournit des fonctionnalités pour annoter les types dans le code. Il est utilisé ici pour spécifier les types d'arguments et de valeurs de retour des fonctions.\n",
        "- `einops` a déjà été expliqué précédemment lors de son installation.\n",
        "- `matplotlib.pyplot` est utilisé pour créer des visualisations, notamment des graphiques et des tracés.\n",
        "- `matplotlib.ticker` est utilisé pour la gestion des marques et étiquettes sur les axes des graphiques.\n",
        "\n",
        "Enfin, nous importons `tensorflow` et `tensorflow_text`, qui sont les bibliothèques principales pour la création de modèles de réseaux de neurones et le traitement du langage naturel avec TensorFlow.\n"
      ]
    },
    {
      "cell_type": "code",
      "execution_count": null,
      "metadata": {
        "id": "LBU4XMi77xHc"
      },
      "outputs": [],
      "source": [
        "# Importer les bibliothèques nécessaires\n",
        "import numpy as np\n",
        "\n",
        "import typing\n",
        "from typing import Any, Tuple\n",
        "\n",
        "import einops\n",
        "import matplotlib.pyplot as plt\n",
        "import matplotlib.ticker as ticker\n",
        "\n",
        "import tensorflow as tf\n",
        "import tensorflow_text as tf_text"
      ]
    },
    {
      "cell_type": "markdown",
      "metadata": {
        "id": "LTnnVle4_CBb"
      },
      "source": [
        "# Manipulation des données"
      ]
    },
    {
      "cell_type": "markdown",
      "metadata": {
        "id": "MNUNLPxP_OBg"
      },
      "source": [
        "## Classe de vérification"
      ]
    },
    {
      "cell_type": "markdown",
      "metadata": {
        "id": "vcCJZWmZxkSh"
      },
      "source": [
        "Dans cette sous-partie, nous définissons une classe appelée `ShapeChecker` qui nous aide à vérifier les formes des tenseurs lors de la manipulation des données. Cette classe est particulièrement utile pour assurer la compatibilité des dimensions lors de l'utilisation de modèles de réseaux de neurones.\n",
        "\n",
        "La classe `ShapeChecker` possède une méthode `__call__`, qui prend un tenseur et une liste de noms d'axes et effectue une vérification de forme. Si TensorFlow est en mode d'exécution eager (mode interactif), la vérification est effectuée. Sinon, rien ne se passe, ce qui est pratique lors de l'entraînement de modèles.\n",
        "\n",
        "Le processus de vérification consiste à analyser la forme du tenseur et à comparer chaque dimension avec les noms donnés. Si un nom d'axe est rencontré pour la première fois, sa longueur est ajoutée au cache de la classe. Si un nom d'axe a déjà été vu, sa longueur actuelle est comparée à l'ancienne. Si les longueurs ne correspondent pas, une erreur est levée pour signaler un conflit de dimension.\n",
        "\n",
        "Cette classe est un outil précieux pour s'assurer que les données sont bien conformes aux spécifications du modèle, ce qui permet d'éviter des erreurs potentielles lors de l'entraînement et de la prédiction.\n"
      ]
    },
    {
      "cell_type": "code",
      "execution_count": null,
      "metadata": {
        "id": "lmyf9d2o7xPY"
      },
      "outputs": [],
      "source": [
        "# Cette classe permet de vérifier les formes des tenseurs lors de la manipulation des données\n",
        "class ShapeChecker():\n",
        "  def __init__(self):\n",
        "    # Conserver un cache de chaque nom d'axe vu\n",
        "    self.shapes = {}\n",
        "\n",
        "  def __call__(self, tensor, names, broadcast=False):\n",
        "    # Si TensorFlow n'est pas en mode eager, ne fait rien\n",
        "    if not tf.executing_eagerly():\n",
        "      return\n",
        "\n",
        "    # Analyser la forme du tenseur et la comparer avec les noms donnés\n",
        "    parsed = einops.parse_shape(tensor, names)\n",
        "\n",
        "    for name, new_dim in parsed.items():\n",
        "      old_dim = self.shapes.get(name, None)\n",
        "\n",
        "      # Si la nouvelle dimension est 1 et qu'elle doit être diffusée, continue\n",
        "      if (broadcast and new_dim == 1):\n",
        "        continue\n",
        "\n",
        "      # Si le nom de l'axe est nouveau, ajouter sa longueur au cache\n",
        "      if old_dim is None:\n",
        "        self.shapes[name] = new_dim\n",
        "        continue\n",
        "\n",
        "      # Si la nouvelle dimension ne correspond pas à l'ancienne, lever une erreur\n",
        "      if new_dim != old_dim:\n",
        "        raise ValueError(f\"Shape mismatch for dimension: '{name}'\\n\"\n",
        "                         f\"    found: {new_dim}\\n\"\n",
        "                         f\"    expected: {old_dim}\\n\")"
      ]
    },
    {
      "cell_type": "markdown",
      "metadata": {
        "id": "4q4hdKkJ_KmM"
      },
      "source": [
        "## Téléchargement du dataset"
      ]
    },
    {
      "cell_type": "markdown",
      "metadata": {
        "id": "DD3Sxk1axmel"
      },
      "source": [
        "Dans cette sous-partie, nous téléchargeons un fichier contenant les données pour notre modèle de traduction anglais-français. Les données proviennent d'un fichier texte au format TSV (tab-separated values), où chaque ligne représente une paire de phrases (anglais et français) séparées par une tabulation.\n",
        "\n",
        "Nous utilisons la bibliothèque `pathlib` pour gérer les chemins de fichiers et la fonction `tf.keras.utils.get_file()` pour télécharger le fichier. Le lien de téléchargement pointe vers un jeu de données de traduction couramment utilisé.\n",
        "\n",
        "Une fois le fichier téléchargé, nous chargeons les données en lisant le texte, en divisant les lignes et en séparant les phrases anglaises et françaises pour former des listes de contextes (`context_raw`) et de cibles (`target_raw`). Nous affichons ensuite la dernière phrase française et anglaise pour vérifier que le chargement des données a été effectué correctement.\n"
      ]
    },
    {
      "cell_type": "code",
      "execution_count": null,
      "metadata": {
        "colab": {
          "base_uri": "https://localhost:8080/"
        },
        "id": "VQKxkeZ_7xR3",
        "outputId": "a89f3823-0158-4847-d932-9c7ab824c4b2"
      },
      "outputs": [
        {
          "name": "stdout",
          "output_type": "stream",
          "text": [
            "Il est peut-être impossible d'obtenir un Corpus complètement dénué de fautes, étant donnée la nature de ce type d'entreprise collaborative. Cependant, si nous encourageons les membres à produire des phrases dans leurs propres langues plutôt que d'expérimenter dans les langues qu'ils apprennent, nous pourrions être en mesure de réduire les erreurs.\n",
            "It may be impossible to get a completely error-free corpus due to the nature of this kind of collaborative effort. However, if we encourage members to contribute sentences in their own languages rather than experiment in languages they are learning, we might be able to minimize errors.\n"
          ]
        }
      ],
      "source": [
        "# Télécharger le fichier contenant les données\n",
        "import pathlib\n",
        "\n",
        "path_to_zip = tf.keras.utils.get_file(\n",
        "    'fra-eng.zip', origin='http://storage.googleapis.com/download.tensorflow.org/data/fra-eng.zip',\n",
        "    extract=True)\n",
        "\n",
        "path_to_file = '/root/fra.txt'\n",
        "\n",
        "# Charger les données depuis le fichier spécifié\n",
        "def load_data(path):\n",
        "    # Lire le fichier texte\n",
        "    text = pathlib.Path(path).read_text(encoding='utf-8')\n",
        "\n",
        "    # Diviser le texte en lignes\n",
        "    lines = text.splitlines()\n",
        "    # Diviser chaque ligne en paires de phrases (anglais, français)\n",
        "    pairs = [line.split('\\t') for line in lines]\n",
        "\n",
        "    # Séparer les phrases anglaises et françaises\n",
        "    target_raw = [pair[0] for pair in pairs]\n",
        "    context_raw = [pair[1] for pair in pairs]\n",
        "\n",
        "    return target_raw, context_raw\n",
        "\n",
        "# Charger les données et afficher la dernière phrase française et anglaise\n",
        "target_raw, context_raw = load_data(str(path_to_file))\n",
        "print(context_raw[-1])\n",
        "print(target_raw[-1])"
      ]
    },
    {
      "cell_type": "markdown",
      "metadata": {
        "id": "h7I7-WAi_T7l"
      },
      "source": [
        "## Datasets d'entraînement et de validation"
      ]
    },
    {
      "cell_type": "markdown",
      "metadata": {
        "id": "r1oqiW0Pxn0x"
      },
      "source": [
        "Dans cette sous-partie, nous préparons les données pour l'entraînement de notre modèle de traduction. Nous divisons les données en deux ensembles : un ensemble d'entraînement et un ensemble de validation.\n",
        "\n",
        "Nous définissons deux ensembles de booléens, `is_train` et `is_val`, en utilisant une distribution aléatoire uniforme pour répartir les exemples entre les deux ensembles. Environ 80 % des exemples sont destinés à l'entraînement (`is_train=True`) et le reste est destiné à la validation (`is_val=False`).\n",
        "\n",
        "Nous utilisons ensuite ces ensembles de booléens pour extraire les indices des exemples d'entraînement et de validation à partir des listes `context_raw` et `target_raw`.\n",
        "\n",
        "Enfin, nous créons deux datasets TensorFlow (`train_raw` et `val_raw`) en utilisant les indices correspondants aux ensembles d'entraînement et de validation. Ces datasets seront utilisés pour entraîner et valider notre modèle de traduction.\n",
        "\n",
        "Notez que nous mélangeons les exemples lors de la création des datasets pour garantir une variabilité lors de l'entraînement. Nous regroupons également les exemples en lots (`BATCH_SIZE`) pour améliorer l'efficacité du processus d'entraînement.\n",
        "\n",
        "En conclusion, cette partie prépare les données pour notre modèle de traduction en anglais-français, en divisant les données en ensembles d'entraînement et de validation, et en les transformant en datasets TensorFlow prêts à être utilisés dans le modèle.\n",
        "\n"
      ]
    },
    {
      "cell_type": "code",
      "execution_count": null,
      "metadata": {
        "colab": {
          "base_uri": "https://localhost:8080/"
        },
        "id": "xhePE93N7xUQ",
        "outputId": "8f6aa3fa-cb4e-4e7f-ec13-5f8b31fed992"
      },
      "outputs": [
        {
          "name": "stdout",
          "output_type": "stream",
          "text": [
            "tf.Tensor(\n",
            "[b'Je ne parviens pas \\xc3\\xa0 le faire de suite.'\n",
            " b'La seule chose qui importe est si oui ou non tu peux faire le boulot.'\n",
            " b'Vous trouverez \\xc3\\xa7a dans une droguerie.'\n",
            " b'Je ne veux pas oublier ce moment.'\n",
            " b\"Je sais que vous n'\\xc3\\xaates pas s\\xc3\\xa9rieuses.\"], shape=(5,), dtype=string)\n",
            "\n",
            "tf.Tensor(\n",
            "[b\"I can't do it right away.\"\n",
            " b'The only thing that matters is whether or not you can do the job.'\n",
            " b'You will find this in a hardware store.'\n",
            " b\"I don't want to forget this moment.\" b\"I know you're not serious.\"], shape=(5,), dtype=string)\n"
          ]
        }
      ],
      "source": [
        "# Paramètres pour la préparation des données\n",
        "BUFFER_SIZE = len(context_raw)  # Taille du buffer pour le mélange des données.\n",
        "                               # Ici, elle est définie comme étant la longueur totale des données pour assurer un mélange complet.\n",
        "BATCH_SIZE = 64                 # Nombre d'exemples à traiter en une fois lors de l'entraînement.\n",
        "\n",
        "# Créer un tableau de booléens pour déterminer si un exemple doit être utilisé pour l'entraînement.\n",
        "# Une valeur True signifie que l'exemple est destiné à l'entraînement, tandis qu'une valeur False\n",
        "# signifie qu'il est destiné à la validation. 80 % des exemples sont destinés à l'entraînement.\n",
        "is_train = np.random.uniform(size=(len(target_raw),)) < 0.8\n",
        "\n",
        "# Extraire les indices des exemples d'entraînement et de validation.\n",
        "train_indices = np.where(is_train)[0]\n",
        "val_indices = np.where(~is_train)[0]\n",
        "\n",
        "# Créer des datasets pour l'entraînement et la validation en utilisant les indices précédemment déterminés.\n",
        "train_raw = (\n",
        "    tf.data.Dataset\n",
        "    .from_tensor_slices((np.array(context_raw)[train_indices], np.array(target_raw)[train_indices]))  # Créer un dataset à partir des tableaux\n",
        "    .shuffle(BUFFER_SIZE)  # Mélanger les exemples pour garantir la variabilité lors de l'entraînement\n",
        "    .batch(BATCH_SIZE))    # Grouper les exemples en lots (batches) pour l'entraînement\n",
        "val_raw = (\n",
        "    tf.data.Dataset\n",
        "    .from_tensor_slices((np.array(context_raw)[val_indices], np.array(target_raw)[val_indices]))  # De même pour les données de validation\n",
        "    .shuffle(BUFFER_SIZE)\n",
        "    .batch(BATCH_SIZE))\n",
        "\n",
        "# Afficher quelques exemples de l'ensemble d'entraînement pour vérifier le format\n",
        "for example_context_strings, example_target_strings in train_raw.take(1):  # Prendre un lot du dataset d'entraînement\n",
        "  print(example_context_strings[:5])  # Afficher les 5 premiers contextes du lot\n",
        "  print()\n",
        "  print(example_target_strings[:5])  # Afficher les 5 premières cibles correspondantes\n",
        "  break"
      ]
    },
    {
      "cell_type": "markdown",
      "metadata": {
        "id": "lVEIuv7b_pJx"
      },
      "source": [
        "# Prétraitement"
      ]
    },
    {
      "cell_type": "markdown",
      "metadata": {
        "id": "wKU39RIk_sMG"
      },
      "source": [
        "## Standardisation du texte"
      ]
    },
    {
      "cell_type": "markdown",
      "metadata": {
        "id": "ortHIPfqxpz7"
      },
      "source": [
        "Dans cette sous-partie, nous effectuons le prétraitement du texte avant de l'utiliser pour entraîner notre modèle de traduction. Le but du prétraitement est de normaliser le texte en éliminant les variations dues aux caractères spéciaux et à la casse, et de le transformer en une séquence de tokens.\n",
        "\n",
        "Nous utilisons l'exemple de texte \"Êtes-vous un chercheur en Intelligence Artificielle ?\" pour illustrer le processus de normalisation. Nous utilisons d'abord la fonction `tf_text.normalize_utf8()` pour décomposer les caractères en leurs formes compatibles (NFKD) et les transformer en texte Unicode normalisé. Ensuite, nous convertissons le texte en minuscules et supprimons tout caractère qui n'est pas une lettre de l'alphabet anglais, un espace, un point, un point d'interrogation, une virgule ou un point d'exclamation. Nous ajoutons également des espaces autour de la ponctuation pour les séparer comme des tokens distincts.\n",
        "\n",
        "Enfin, nous ajoutons des tokens spéciaux `[START]` et `[END]` autour du texte pour indiquer le début et la fin de la séquence de tokens. Cette étape est essentielle pour les modèles de traduction afin qu'ils sachent quand commencer et terminer la génération de texte.\n",
        "\n",
        "Le prétraitement standardise le texte et le transforme en une séquence de tokens prête à être utilisée par le modèle de traduction.\n"
      ]
    },
    {
      "cell_type": "code",
      "execution_count": null,
      "metadata": {
        "colab": {
          "base_uri": "https://localhost:8080/"
        },
        "id": "3wNdHQh-7xWu",
        "outputId": "667ed6ba-22ab-49b5-afbc-cafb7b8d24fa"
      },
      "outputs": [
        {
          "name": "stdout",
          "output_type": "stream",
          "text": [
            "b'\\xc3\\x8ates-vous un chercheur en Intelligence Artificielle ?'\n",
            "b'E\\xcc\\x82tes-vous un chercheur en Intelligence Artificielle ?'\n"
          ]
        }
      ],
      "source": [
        "# Exemple de texte à transformer\n",
        "example_text = tf.constant('Êtes-vous un chercheur en Intelligence Artificielle ?')\n",
        "\n",
        "# Afficher le texte initial\n",
        "print(example_text.numpy())\n",
        "# Normaliser le texte pour éliminer les variations dues aux caractères spéciaux ou à la casse, par exemple.\n",
        "# Ici, 'NFKD' est un type de normalisation Unicode qui décompose les caractères en leurs formes compatibles.\n",
        "print(tf_text.normalize_utf8(example_text, 'NFKD').numpy())"
      ]
    },
    {
      "cell_type": "code",
      "execution_count": null,
      "metadata": {
        "colab": {
          "base_uri": "https://localhost:8080/"
        },
        "id": "Rax9w01m753f",
        "outputId": "a9362d7e-04c2-46fa-b4ed-2a595dee1fe1"
      },
      "outputs": [
        {
          "name": "stdout",
          "output_type": "stream",
          "text": [
            "Êtes-vous un chercheur en Intelligence Artificielle ?\n",
            "[START] etesvous un chercheur en intelligence artificielle  ? [END]\n"
          ]
        }
      ],
      "source": [
        "# Fonction pour transformer le texte : le mettre en minuscule et séparer la ponctuation\n",
        "def tf_lower_and_split_punct(text):\n",
        "  # Séparer les caractères accentués\n",
        "  text = tf_text.normalize_utf8(text, 'NFKD')\n",
        "  # Convertir le texte en minuscule\n",
        "  text = tf.strings.lower(text)\n",
        "  # Garder l'espace, les lettres de a à z, et certains signes de ponctuation\n",
        "  text = tf.strings.regex_replace(text, '[^ a-z.?!,¿]', '')\n",
        "  # Ajouter des espaces autour de la ponctuation\n",
        "  text = tf.strings.regex_replace(text, '[.?!,¿]', r' \\0 ')\n",
        "  # Supprimer les espaces superflus\n",
        "  text = tf.strings.strip(text)\n",
        "\n",
        "  # Ajouter des tokens de début et de fin autour du texte\n",
        "  text = tf.strings.join(['[START]', text, '[END]'], separator=' ')\n",
        "  return text\n",
        "\n",
        "# Afficher l'exemple transformé\n",
        "print(example_text.numpy().decode())\n",
        "print(tf_lower_and_split_punct(example_text).numpy().decode())"
      ]
    },
    {
      "cell_type": "markdown",
      "metadata": {
        "id": "jxP209AA_39t"
      },
      "source": [
        "## Vectorisation"
      ]
    },
    {
      "cell_type": "markdown",
      "metadata": {
        "id": "qIWiYPuwxrOU"
      },
      "source": [
        "Dans cette sous-partie, nous effectuons la vectorisation des données textuelles pour préparer l'entrée de notre modèle de traduction. La vectorisation consiste à convertir les mots en indices numériques (tokens) en utilisant un dictionnaire de vocabulaire.\n",
        "\n",
        "Nous définissons une taille maximale pour le vocabulaire (`max_vocab_size`) qui limitera le nombre de mots pris en compte pour l'indexation. Ensuite, nous créons deux processeurs de texte, un pour le contexte (anglais) et l'autre pour la cible (français).\n",
        "\n",
        "Chaque processeur est une couche de vectorisation de texte, qui prend en entrée le texte normalisé (à partir de la sous-partie précédente) et le transforme en séquences de tokens. Nous utilisons la fonction `tf.keras.layers.TextVectorization` pour cela, en spécifiant la fonction de normalisation, la taille maximale du vocabulaire et l'option `ragged=True` pour indiquer que les séquences auront des longueurs variables.\n",
        "\n",
        "Ensuite, nous \"adaptons\" les processeurs de texte aux données d'entraînement en utilisant la méthode `.adapt()` avec le dataset d'entraînement. Cela permet aux processeurs de texte d'apprendre le vocabulaire en utilisant les données d'entraînement.\n",
        "\n",
        "Nous affichons ensuite les 10 premiers mots du vocabulaire pour vérifier ce que les processeurs de texte ont appris.\n",
        "\n",
        "Enfin, nous utilisons les processeurs de texte pour convertir les exemples de chaînes contextuelles en séquences de tokens numériques. Cela nous permet de vérifier si la tokenisation fonctionne correctement et d'afficher une représentation visuelle des tokens générés et de leur masque (où les tokens sont présents et où ils ne le sont pas).\n",
        "\n",
        "La vectorisation prépare les données textuelles en convertissant les mots en indices numériques (tokens) pour le traitement par le modèle de traduction.\n"
      ]
    },
    {
      "cell_type": "code",
      "execution_count": null,
      "metadata": {
        "id": "6uoMuasC756F"
      },
      "outputs": [],
      "source": [
        "# On définie une taille maximale pour le vocabulaire.\n",
        "max_vocab_size = 5000\n",
        "\n",
        "# On crée un processeur de texte pour le contexte (anglais). Ce processeur est une couche\n",
        "# de vectorisation de texte qui permet de convertir les textes en séquences de tokens.\n",
        "context_text_processor = tf.keras.layers.TextVectorization(\n",
        "    standardize=tf_lower_and_split_punct, # Fonction pour normaliser le texte\n",
        "    max_tokens=max_vocab_size,            # Taille maximale du vocabulaire\n",
        "    ragged=True)                          # Renvoie un tensor de forme variable"
      ]
    },
    {
      "cell_type": "code",
      "execution_count": null,
      "metadata": {
        "colab": {
          "base_uri": "https://localhost:8080/"
        },
        "id": "fTrOY3PJ758S",
        "outputId": "8cbc6f14-6cc2-478d-aa92-acbeb2047057"
      },
      "outputs": [
        {
          "data": {
            "text/plain": [
              "['', '[UNK]', '[START]', '[END]', '.', 'je', 'de', 'a', '?', 'pas']"
            ]
          },
          "execution_count": 150,
          "metadata": {},
          "output_type": "execute_result"
        }
      ],
      "source": [
        "# Le processeur de texte est \"adapté\" aux données d'entraînement. C'est comme ajuster un\n",
        "# tokenizer sur des données: il apprend le vocabulaire.\n",
        "context_text_processor.adapt(train_raw.map(lambda context, target: context))\n",
        "\n",
        "# Affiche les 10 premiers mots du vocabulaire pour vérifier ce qu'il a appris.\n",
        "context_text_processor.get_vocabulary()[:10]"
      ]
    },
    {
      "cell_type": "code",
      "execution_count": null,
      "metadata": {
        "colab": {
          "base_uri": "https://localhost:8080/"
        },
        "id": "kZsOp1u-75_a",
        "outputId": "59f077a7-cc80-4851-dfde-b7d68bdcad22"
      },
      "outputs": [
        {
          "data": {
            "text/plain": [
              "['', '[UNK]', '[START]', '[END]', '.', 'i', 'you', 'to', 'the', '?']"
            ]
          },
          "execution_count": 151,
          "metadata": {},
          "output_type": "execute_result"
        }
      ],
      "source": [
        "# De la même manière, on crée un processeur de texte pour la cible (français).\n",
        "target_text_processor = tf.keras.layers.TextVectorization(\n",
        "    standardize=tf_lower_and_split_punct,\n",
        "    max_tokens=max_vocab_size,\n",
        "    ragged=True)\n",
        "\n",
        "# Adapter le processeur de texte aux cibles du dataset d'entraînement.\n",
        "target_text_processor.adapt(train_raw.map(lambda context, target: target))\n",
        "target_text_processor.get_vocabulary()[:10]"
      ]
    },
    {
      "cell_type": "code",
      "execution_count": null,
      "metadata": {
        "colab": {
          "base_uri": "https://localhost:8080/"
        },
        "id": "k_wUv4x076Dg",
        "outputId": "ed3c330d-8022-4132-e0cd-dc1e7022db43"
      },
      "outputs": [
        {
          "data": {
            "text/plain": [
              "<tf.RaggedTensor [[2, 5, 12, 1051, 9, 7, 13, 32, 6, 771, 4, 3],\n",
              " [2, 11, 252, 72, 39, 1605, 17, 50, 805, 58, 240, 20, 70, 32, 13, 552, 4, 3],\n",
              " [2, 14, 3495, 30, 34, 24, 1, 4, 3]]>"
            ]
          },
          "execution_count": 152,
          "metadata": {},
          "output_type": "execute_result"
        }
      ],
      "source": [
        "# Exemple de tokens générés par le processeur de texte. On prend quelques exemples\n",
        "# de chaînes contextuelles et on les tokenise.\n",
        "example_tokens = context_text_processor(example_context_strings)\n",
        "example_tokens[:3, :]"
      ]
    },
    {
      "cell_type": "code",
      "execution_count": null,
      "metadata": {
        "colab": {
          "base_uri": "https://localhost:8080/",
          "height": 35
        },
        "id": "OcZMqCqB7xZL",
        "outputId": "e0d7f10e-3e5a-40c8-fd95-33d112078c55"
      },
      "outputs": [
        {
          "data": {
            "application/vnd.google.colaboratory.intrinsic+json": {
              "type": "string"
            },
            "text/plain": [
              "'[START] je ne parviens pas a le faire de suite . [END]'"
            ]
          },
          "execution_count": 153,
          "metadata": {},
          "output_type": "execute_result"
        }
      ],
      "source": [
        "# Convertit les tokens en mots en utilisant le vocabulaire. Cela nous permet de\n",
        "# vérifier si la tokenisation fonctionne correctement.\n",
        "context_vocab = np.array(context_text_processor.get_vocabulary())\n",
        "tokens = context_vocab[example_tokens[0].numpy()]\n",
        "' '.join(tokens)"
      ]
    },
    {
      "cell_type": "code",
      "execution_count": null,
      "metadata": {
        "colab": {
          "base_uri": "https://localhost:8080/",
          "height": 469
        },
        "id": "duJQrvKN7xbq",
        "outputId": "e8f1941d-7a93-47d7-8cdf-d0c2e3c2dc94"
      },
      "outputs": [
        {
          "data": {
            "text/plain": [
              "Text(0.5, 1.0, 'Mask')"
            ]
          },
          "execution_count": 154,
          "metadata": {},
          "output_type": "execute_result"
        },
        {
          "data": {
            "image/png": "[encoded data removed]",
            "text/plain": [
              "<Figure size 640x480 with 2 Axes>"
            ]
          },
          "metadata": {},
          "output_type": "display_data"
        }
      ],
      "source": [
        "# Affiche une représentation visuelle des IDs de tokens et de leur masque.\n",
        "# Le masque indique où les tokens sont présents (valeur 1) et où ils ne le sont pas (valeur 0).\n",
        "plt.subplot(1, 2, 1)\n",
        "plt.pcolormesh(example_tokens.to_tensor())\n",
        "plt.title('Token IDs')\n",
        "\n",
        "plt.subplot(1, 2, 2)\n",
        "plt.pcolormesh(example_tokens.to_tensor() != 0)\n",
        "plt.title('Mask')"
      ]
    },
    {
      "cell_type": "code",
      "execution_count": null,
      "metadata": {
        "id": "Z3EmkDSX8Bwl"
      },
      "outputs": [],
      "source": [
        "# Fonction pour traiter le texte avant de le fournir au modèle. Elle convertit\n",
        "# le contexte et la cible en tokens, et crée également les entrées et les sorties\n",
        "# pour la cible (en décalant d'un token).\n",
        "def process_text(context, target):\n",
        "  context = context_text_processor(context).to_tensor()\n",
        "  target = target_text_processor(target)\n",
        "  targ_in = target[:,:-1].to_tensor()\n",
        "  targ_out = target[:,1:].to_tensor()\n",
        "  return (context, targ_in), targ_out\n",
        "\n",
        "# Applique cette fonction de traitement aux datasets d'entraînement et de validation.\n",
        "train_ds = train_raw.map(process_text, tf.data.AUTOTUNE)\n",
        "val_ds = val_raw.map(process_text, tf.data.AUTOTUNE)"
      ]
    },
    {
      "cell_type": "code",
      "execution_count": null,
      "metadata": {
        "colab": {
          "base_uri": "https://localhost:8080/"
        },
        "id": "QlKxMx0N8B_X",
        "outputId": "642a38fd-caa8-4961-9729-4be3d81d2aa5"
      },
      "outputs": [
        {
          "name": "stdout",
          "output_type": "stream",
          "text": [
            "[  2 576   1   4   3   0   0   0   0   0]\n",
            "\n",
            "[ 2 26 64  7 32 61  4  0  0  0]\n",
            "[26 64  7 32 61  4  3  0  0  0]\n"
          ]
        }
      ],
      "source": [
        "# Affiche un exemple de données traitées pour vérifier la structure des tokens.\n",
        "for (ex_context_tok, ex_tar_in), ex_tar_out in train_ds.take(1):\n",
        "  print(ex_context_tok[0, :10].numpy())\n",
        "  print()\n",
        "  print(ex_tar_in[0, :10].numpy())\n",
        "  print(ex_tar_out[0, :10].numpy())"
      ]
    },
    {
      "cell_type": "markdown",
      "metadata": {
        "id": "kGJQGeDg_8hT"
      },
      "source": [
        "# Le modèle encodeur/décodeur"
      ]
    },
    {
      "cell_type": "code",
      "execution_count": null,
      "metadata": {
        "id": "NOh77_qI8CBw"
      },
      "outputs": [],
      "source": [
        "# On définit le nombre d'unités pour les couches d'encodage et d'attention.\n",
        "UNITS = 256"
      ]
    },
    {
      "cell_type": "markdown",
      "metadata": {
        "id": "9LV4y_o5xtOW"
      },
      "source": [
        "Dans cette partie, nous définissons le modèle de traduction anglais-français en utilisant l'architecture d'encodeur-décodeur. Ce modèle est une architecture couramment utilisée pour les tâches de traduction et de génération de texte.\n",
        "\n",
        "Nous utilisons des couches d'encodage et d'attention pour capturer les informations sémantiques des phrases en entrée et générer les traductions en sortie.\n",
        "\n",
        "- `UNITS` représente le nombre d'unités (neurones) pour les couches d'encodage et d'attention. Ce paramètre est défini à 256, mais il peut être ajusté en fonction des besoins et de la complexité du modèle.\n",
        "\n",
        "Le modèle d'encodeur-décodeur est une architecture puissante qui peut être entraînée à générer des traductions de haute qualité en fonction des paires de phrases d'entraînement. La combinaison de la vectorisation du texte, du prétraitement et de l'architecture du modèle permettra d'obtenir un système de traduction efficace et précis.\n"
      ]
    },
    {
      "cell_type": "markdown",
      "metadata": {
        "id": "Wk_b0yvfCe87"
      },
      "source": [
        "## L'encodeur"
      ]
    },
    {
      "cell_type": "markdown",
      "metadata": {
        "id": "GCFfbXe3xvac"
      },
      "source": [
        "Dans cette sous-partie, nous mettons en œuvre la couche d'encodeur personnalisée. L'encodeur transforme une séquence de texte en une séquence de vecteurs. Il utilise deux composants principaux : la couche d'embedding et une couche RNN bidirectionnelle.\n",
        "\n",
        "- La couche d'embedding (`self.embedding`) est utilisée pour convertir les tokens (mots) en vecteurs denses. Cela permet de représenter le texte de manière continue et facilite l'apprentissage des relations entre les mots. L'embedding est spécifié par le nombre d'unités (`units`) que chaque mot sera représenté.\n",
        "\n",
        "- La couche RNN bidirectionnelle (`self.rnn`) traite les vecteurs d'embedding séquentiellement. Elle prend en entrée les vecteurs d'embedding et retourne une séquence d'états cachés, permettant de capturer les informations contextuelles dans les deux directions (avant et arrière) du texte. L'option `merge_mode='sum'` signifie que les sorties des deux directions sont sommées.\n",
        "\n",
        "La méthode `call` de l'encodeur prend une séquence d'entrée `x` et effectue les opérations suivantes :\n",
        "\n",
        "1. Conversion des tokens en vecteurs d'embedding à l'aide de la couche d'embedding.\n",
        "2. Traitement des vecteurs d'embedding avec la couche RNN bidirectionnelle (`self.rnn`).\n",
        "3. Renvoi de la séquence traitée.\n",
        "\n",
        "La méthode `convert_input` est utilisée pour convertir un texte brut en sa représentation encodée à l'aide de l'encodeur. Elle prend en entrée un texte, le convertit en tokens et le passe à l'encodeur pour obtenir les vecteurs d'embedding correspondants.\n"
      ]
    },
    {
      "cell_type": "code",
      "execution_count": null,
      "metadata": {
        "id": "BrKYehzg8CES"
      },
      "outputs": [],
      "source": [
        "# L'encodeur est une couche personnalisée qui convertit une séquence de texte en une séquence de vecteurs.\n",
        "class Encoder(tf.keras.layers.Layer):\n",
        "  # Initialisation de l'encodeur\n",
        "  def __init__(self, text_processor, units):\n",
        "    # Initialisation de la superclasse\n",
        "    super(Encoder, self).__init__()\n",
        "    # Le traitement du texte est nécessaire pour tokeniser le texte\n",
        "    self.text_processor = text_processor\n",
        "    # La taille du vocabulaire détermine le nombre de mots différents qui peuvent être traités\n",
        "    self.vocab_size = text_processor.vocabulary_size()\n",
        "    # Le nombre d'unités dans les couches RNN et d'embedding\n",
        "    self.units = units\n",
        "\n",
        "    # La couche d'embedding convertit les tokens (mots) en vecteurs\n",
        "    # Cela permet d'avoir une représentation dense du texte\n",
        "    self.embedding = tf.keras.layers.Embedding(self.vocab_size, units, mask_zero=True)\n",
        "\n",
        "    # La couche RNN (GRU ici) traite ces vecteurs séquentiellement\n",
        "    # Bidirectionnel signifie que le RNN traite le texte dans les deux directions (avant et arrière)\n",
        "    self.rnn = tf.keras.layers.Bidirectional(\n",
        "        merge_mode='sum',\n",
        "        layer=tf.keras.layers.GRU(units, return_sequences=True, recurrent_initializer='glorot_uniform'))\n",
        "\n",
        "  # Cette méthode est appelée pour traiter une séquence d'entrée x\n",
        "  def call(self, x):\n",
        "    # Une instance pour vérifier la forme des tenseurs\n",
        "    shape_checker = ShapeChecker()\n",
        "    shape_checker(x, 'batch s')\n",
        "\n",
        "    # Conversion des tokens en vecteurs\n",
        "    x = self.embedding(x)\n",
        "    shape_checker(x, 'batch s units')\n",
        "\n",
        "    # Traitement des vecteurs avec RNN\n",
        "    x = self.rnn(x)\n",
        "    shape_checker(x, 'batch s units')\n",
        "\n",
        "    # Renvoyer la séquence traitée\n",
        "    return x\n",
        "\n",
        "  # Cette méthode convertit un texte brut en sa représentation encodée\n",
        "  def convert_input(self, texts):\n",
        "    texts = tf.convert_to_tensor(texts)\n",
        "    if len(texts.shape) == 0:\n",
        "      texts = tf.convert_to_tensor(texts)[tf.newaxis]\n",
        "    context = self.text_processor(texts).to_tensor()\n",
        "    context = self(context)\n",
        "    return context"
      ]
    },
    {
      "cell_type": "code",
      "execution_count": null,
      "metadata": {
        "colab": {
          "base_uri": "https://localhost:8080/"
        },
        "id": "3bvCWFAq8CGT",
        "outputId": "ba859936-cb73-4dc4-c4b1-c4dc4a3e34f8"
      },
      "outputs": [
        {
          "name": "stdout",
          "output_type": "stream",
          "text": [
            "Tokens de contexte, forme (batch, s): (64, 16)\n",
            "Sortie de l'encodeur, forme (batch, s, units): (64, 16, 256)\n"
          ]
        }
      ],
      "source": [
        "# Encoder la séquence d'entrée\n",
        "\n",
        "# Instanciation de l'encodeur\n",
        "encoder = Encoder(context_text_processor, UNITS)\n",
        "ex_context = encoder(ex_context_tok)\n",
        "\n",
        "print(f'Tokens de contexte, forme (batch, s): {ex_context_tok.shape}')\n",
        "print(f'Sortie de l\\'encodeur, forme (batch, s, units): {ex_context.shape}')"
      ]
    },
    {
      "cell_type": "markdown",
      "metadata": {
        "id": "ITocyJnvDSiD"
      },
      "source": [
        "## La couche d'attention"
      ]
    },
    {
      "cell_type": "markdown",
      "metadata": {
        "id": "4jRbWfuexxN6"
      },
      "source": [
        "Dans cette sous-partie, nous définissons la couche d'attention personnalisée (`CrossAttention`). Cette couche permet de concentrer le modèle sur certaines parties du contexte lors de la traduction.\n",
        "\n",
        "- La couche utilise `tf.keras.layers.MultiHeadAttention` (`self.mha`) qui est une méthode d'attention permettant de traiter l'information de plusieurs manières à la fois.\n",
        "- `self.layernorm` est une couche de normalisation qui améliore la stabilité de l'apprentissage.\n",
        "- `self.add` combine les sorties de l'attention avec les sorties précédentes.\n",
        "\n",
        "La méthode `call` de la couche d'attention prend en entrée une séquence `x` et le contexte `context`. Elle effectue les opérations suivantes :\n",
        "\n",
        "1. Obtention des poids d'attention et de la sortie en utilisant `tf.keras.layers.MultiHeadAttention`.\n",
        "2. Combinaison des sorties en utilisant `self.add`.\n",
        "3. Normalisation des sorties en utilisant `self.layernorm`.\n",
        "\n",
        "Cette couche est utilisée dans le décodeur pour se concentrer sur le contexte pertinent pendant la génération de la traduction.\n"
      ]
    },
    {
      "cell_type": "code",
      "execution_count": null,
      "metadata": {
        "colab": {
          "base_uri": "https://localhost:8080/"
        },
        "id": "RhkyLk8R8CI0",
        "outputId": "fc1c14c3-fac4-4fac-a4f1-f1485961a1a5"
      },
      "outputs": [
        {
          "name": "stdout",
          "output_type": "stream",
          "text": [
            "Séquence de contexte, forme (batch, s, units): (64, 16, 256)\n",
            "Séquence cible, forme (batch, t, units): (64, 13, 256)\n",
            "Résultat de l'attention, forme (batch, t, units): (64, 13, 256)\n",
            "Poids de l'attention, forme (batch, t, s):    (64, 13, 16)\n"
          ]
        }
      ],
      "source": [
        "# Cette couche fournit un mécanisme d'attention pour focaliser sur certaines parties du contexte lors de la traduction\n",
        "class CrossAttention(tf.keras.layers.Layer):\n",
        "  def __init__(self, units, **kwargs):\n",
        "    super().__init__()\n",
        "    # MultiHeadAttention est une méthode d'attention qui traite l'information de plusieurs manières à la fois\n",
        "    self.mha = tf.keras.layers.MultiHeadAttention(key_dim=units, num_heads=1, **kwargs)\n",
        "    self.layernorm = tf.keras.layers.LayerNormalization()\n",
        "    self.add = tf.keras.layers.Add()\n",
        "\n",
        "  def call(self, x, context):\n",
        "    shape_checker = ShapeChecker()\n",
        "\n",
        "    # Obtention des poids d'attention et sortie\n",
        "    attn_output, attn_scores = self.mha(query=x, value=context, return_attention_scores=True)\n",
        "    attn_scores = tf.reduce_mean(attn_scores, axis=1)\n",
        "    self.last_attention_weights = attn_scores\n",
        "\n",
        "    # Combinaison des sorties\n",
        "    x = self.add([x, attn_output])\n",
        "    x = self.layernorm(x)\n",
        "    return x\n",
        "\n",
        "attention_layer = CrossAttention(UNITS)\n",
        "\n",
        "# Assister aux tokens encodés pour vérifier le fonctionnement de la couche d'attention\n",
        "embed = tf.keras.layers.Embedding(target_text_processor.vocabulary_size(), output_dim=UNITS, mask_zero=True)\n",
        "ex_tar_embed = embed(ex_tar_in)\n",
        "result = attention_layer(ex_tar_embed, ex_context)\n",
        "\n",
        "# Affichage des formes pour comprendre la transformation des données\n",
        "print(f'Séquence de contexte, forme (batch, s, units): {ex_context.shape}')\n",
        "print(f'Séquence cible, forme (batch, t, units): {ex_tar_embed.shape}')\n",
        "print(f'Résultat de l\\'attention, forme (batch, t, units): {result.shape}')\n",
        "print(f'Poids de l\\'attention, forme (batch, t, s):    {attention_layer.last_attention_weights.shape}')"
      ]
    },
    {
      "cell_type": "code",
      "execution_count": null,
      "metadata": {
        "colab": {
          "base_uri": "https://localhost:8080/"
        },
        "id": "1QyV_kQ98CLT",
        "outputId": "d8c0f881-bb00-46b3-87b9-9b5e78249031"
      },
      "outputs": [
        {
          "data": {
            "text/plain": [
              "array([1.        , 1.        , 1.        , 0.9999999 , 1.        ,\n",
              "       1.        , 0.99999994, 0.99999994, 0.99999994, 0.99999994,\n",
              "       0.99999994, 0.99999994, 0.99999994], dtype=float32)"
            ]
          },
          "execution_count": 161,
          "metadata": {},
          "output_type": "execute_result"
        }
      ],
      "source": [
        "# Calculer la somme des poids d'attention pour vérifier qu'ils somment bien à 1\n",
        "attention_layer.last_attention_weights[0].numpy().sum(axis=-1)"
      ]
    },
    {
      "cell_type": "code",
      "execution_count": null,
      "metadata": {
        "colab": {
          "base_uri": "https://localhost:8080/",
          "height": 452
        },
        "id": "HnSK5aCu8NLK",
        "outputId": "469f02cd-b063-4217-f0f9-36930d4bc5bd"
      },
      "outputs": [
        {
          "data": {
            "image/png": "[encoded data removed]",
            "text/plain": [
              "<Figure size 640x480 with 2 Axes>"
            ]
          },
          "metadata": {},
          "output_type": "display_data"
        }
      ],
      "source": [
        "# Visualisation des poids d'attention\n",
        "\n",
        "# Récupération des poids d'attention à partir de la dernière couche d'attention\n",
        "attention_weights = attention_layer.last_attention_weights\n",
        "# Création d'un masque pour exclure les tokens qui sont des zéros (c'est-à-dire des paddings)\n",
        "mask=(ex_context_tok != 0).numpy()\n",
        "\n",
        "# Création d'une figure avec 2 subplots côte à côte\n",
        "plt.subplot(1, 2, 1)\n",
        "# Affichage des poids d'attention multipliés par le masque (pour supprimer l'affichage des paddings)\n",
        "plt.pcolormesh(mask*attention_weights[:, 0, :])\n",
        "plt.title('Poids de l\\'attention')\n",
        "\n",
        "plt.subplot(1, 2, 2)\n",
        "# Affichage du masque lui-même pour visualiser les régions effectivement masquées\n",
        "plt.pcolormesh(mask)\n",
        "plt.title('Masque');"
      ]
    },
    {
      "cell_type": "markdown",
      "metadata": {
        "id": "7e0wcqtwDjJu"
      },
      "source": [
        "## Le décodeur"
      ]
    },
    {
      "cell_type": "markdown",
      "metadata": {
        "id": "ZDFzXUTsxzFo"
      },
      "source": [
        "\n",
        "Dans cette sous-partie, nous mettons en œuvre la classe du décodeur personnalisé. Le décodeur prend le contexte encodé et génère une séquence cible (traduction) mot par mot.\n",
        "\n",
        "Le décodeur a plusieurs composants importants :\n",
        "\n",
        "- `self.word_to_id` et `self.id_to_word` sont des couches de conversion de mots en identifiants uniques et vice versa. Elles sont utilisées pour gérer le vocabulaire des séquences cibles.\n",
        "\n",
        "- `self.start_token` et `self.end_token` représentent les identifiants des tokens de début et de fin de séquence. Ils sont utilisés pour indiquer quand commencer et arrêter la génération de la traduction.\n",
        "\n",
        "- `self.embedding` est une couche d'embedding pour convertir les identifiants de tokens en vecteurs d'embedding.\n",
        "\n",
        "- `self.rnn` est une couche RNN (GRU) utilisée pour traiter les séquences cibles.\n",
        "\n",
        "- `self.attention` est la couche d'attention (`CrossAttention`) utilisée pour se concentrer sur le contexte pendant la génération de la traduction.\n",
        "\n",
        "- `self.output_layer` est une couche dense qui prédit le prochain token en fonction des sorties du décodeur.\n",
        "\n",
        "La méthode `call` du décodeur prend en entrée le contexte encodé `context`, les tokens d'entrée `x`, l'état du décodeur `state` et une option `return_state`. Elle effectue les opérations suivantes :\n",
        "\n",
        "1. Conversion des tokens d'entrée en vecteurs d'embedding à l'aide de la couche d'embedding.\n",
        "2. Traitement de la séquence d'entrée avec la couche RNN pour obtenir la séquence de sorties `x`.\n",
        "3. Utilisation de la couche d'attention pour se concentrer sur le contexte pertinent pendant la génération de la traduction.\n",
        "4. Prédiction du prochain token avec la couche de sortie.\n",
        "\n",
        "La méthode `get_initial_state` est utilisée pour initialiser l'état du décodeur avant la traduction. Elle renvoie le token de début pour chaque séquence du batch, initialise la variable \"done\" à faux pour toutes les séquences et renvoie l'état initial du RNN.\n",
        "\n",
        "La méthode `tokens_to_text` convertit les tokens en texte, en utilisant le dictionnaire inversé `self.id_to_word`. Elle joint les mots pour former une phrase et retire les tokens de début et de fin.\n",
        "\n",
        "La méthode `get_next_token` est utilisée pour prédire le prochain token lors de la génération de la traduction. Elle prend en entrée le contexte, le prochain token, l'état du décodeur, la variable \"done\" (indiquant si une séquence est terminée) et une option de température pour la génération aléatoire. Si la température est égale à 0, le token est choisi avec la probabilité la plus élevée (mode déterministe). Sinon, le token est choisi de manière aléatoire en fonction des logits (mode stochastique). Cette méthode est utilisée pour itérer sur les tokens et générer la traduction complète mot par mot.\n"
      ]
    },
    {
      "cell_type": "code",
      "execution_count": null,
      "metadata": {
        "id": "UC0Bge_z8NNm"
      },
      "outputs": [],
      "source": [
        "# Définition de la classe du décodeur\n",
        "class Decoder(tf.keras.layers.Layer):\n",
        "  # Définir une méthode de classe pour ajouter dynamiquement des méthodes à la classe\n",
        "  @classmethod\n",
        "  def add_method(cls, fun):\n",
        "    setattr(cls, fun.__name__, fun)\n",
        "    return fun\n",
        "\n",
        "  # Initialisation de la classe décodeur\n",
        "  def __init__(self, text_processor, units):\n",
        "    super(Decoder, self).__init__()  # Initialiser la superclasse Layer\n",
        "    # Text processor pour traiter les séquences cibles\n",
        "    self.text_processor = text_processor\n",
        "    # Taille du vocabulaire des séquences cibles\n",
        "    self.vocab_size = text_processor.vocabulary_size()\n",
        "    # Conversion de mots en identifiants uniques\n",
        "    self.word_to_id = tf.keras.layers.StringLookup(\n",
        "        vocabulary=text_processor.get_vocabulary(),\n",
        "        mask_token='', oov_token='[UNK]')\n",
        "    # Conversion inverse d'identifiants uniques en mots\n",
        "    self.id_to_word = tf.keras.layers.StringLookup(\n",
        "        vocabulary=text_processor.get_vocabulary(),\n",
        "        mask_token='', oov_token='[UNK]',\n",
        "        invert=True)\n",
        "    # Identifier le token de début et de fin\n",
        "    self.start_token = self.word_to_id('[START]')\n",
        "    self.end_token = self.word_to_id('[END]')\n",
        "    # Définir le nombre d'unités pour le RNN et la couche d'embedding\n",
        "    self.units = units\n",
        "    # Convertir les identifiants de tokens en vecteurs d'embedding\n",
        "    self.embedding = tf.keras.layers.Embedding(self.vocab_size, units, mask_zero=True)\n",
        "    # RNN pour traiter les séquences cibles\n",
        "    self.rnn = tf.keras.layers.GRU(units, return_sequences=True, return_state=True, recurrent_initializer='glorot_uniform')\n",
        "    # Couche d'attention pour se concentrer sur le contexte pertinent\n",
        "    self.attention = CrossAttention(units)\n",
        "    # Couche de sortie pour prédire le prochain token\n",
        "    self.output_layer = tf.keras.layers.Dense(self.vocab_size)"
      ]
    },
    {
      "cell_type": "code",
      "execution_count": null,
      "metadata": {
        "id": "CstxLWuJ8NPz"
      },
      "outputs": [],
      "source": [
        "# La méthode \"call\" pour traiter les séquences avec le décodeur\n",
        "@Decoder.add_method\n",
        "def call(self, context, x, state=None, return_state=False):\n",
        "  shape_checker = ShapeChecker()  # Utilitaire pour vérifier les dimensions des tensors\n",
        "  # Vérifier les dimensions du tensor d'entrée\n",
        "  shape_checker(x, 'batch t')\n",
        "  shape_checker(context, 'batch s units')\n",
        "  # Convertir les identifiants de tokens en vecteurs d'embedding\n",
        "  x = self.embedding(x)\n",
        "  shape_checker(x, 'batch t units')\n",
        "  # Traiter la séquence avec le RNN\n",
        "  x, state = self.rnn(x, initial_state=state)\n",
        "  shape_checker(x, 'batch t units')\n",
        "  # Utiliser la couche d'attention pour se concentrer sur le contexte pertinent\n",
        "  x = self.attention(x, context)\n",
        "  # Sauvegarder les poids d'attention pour une éventuelle visualisation\n",
        "  self.last_attention_weights = self.attention.last_attention_weights\n",
        "  shape_checker(x, 'batch t units')\n",
        "  shape_checker(self.last_attention_weights, 'batch t s')\n",
        "  # Prédire le prochain token avec la couche de sortie\n",
        "  logits = self.output_layer(x)\n",
        "  shape_checker(logits, 'batch t target_vocab_size')\n",
        "  # Renvoyer soit les logits avec l'état, soit juste les logits en fonction de \"return_state\"\n",
        "  if return_state:\n",
        "    return logits, state\n",
        "  else:\n",
        "    return logits"
      ]
    },
    {
      "cell_type": "code",
      "execution_count": null,
      "metadata": {
        "id": "MYZTLR_f8NSO"
      },
      "outputs": [],
      "source": [
        "# Instancier le décodeur avec les paramètres appropriés\n",
        "decoder = Decoder(target_text_processor, UNITS)"
      ]
    },
    {
      "cell_type": "code",
      "execution_count": null,
      "metadata": {
        "colab": {
          "base_uri": "https://localhost:8080/"
        },
        "id": "UIAYjB-i8CNR",
        "outputId": "bb34482a-8ce4-4346-e429-5a3d2965ff93"
      },
      "outputs": [
        {
          "name": "stdout",
          "output_type": "stream",
          "text": [
            "encoder output shape: (batch, s, units) (64, 16, 256)\n",
            "input target tokens shape: (batch, t) (64, 13)\n",
            "logits shape shape: (batch, target_vocabulary_size) (64, 13, 5000)\n"
          ]
        }
      ],
      "source": [
        "# Tester le décodeur avec un exemple de contexte et une séquence d'entrée\n",
        "logits = decoder(ex_context, ex_tar_in)\n",
        "\n",
        "# Afficher les formes des tensors pour s'assurer qu'ils sont corrects\n",
        "print(f'encoder output shape: (batch, s, units) {ex_context.shape}')\n",
        "print(f'input target tokens shape: (batch, t) {ex_tar_in.shape}')\n",
        "print(f'logits shape shape: (batch, target_vocabulary_size) {logits.shape}')"
      ]
    },
    {
      "cell_type": "code",
      "execution_count": null,
      "metadata": {
        "id": "3UzPfCaL8So5"
      },
      "outputs": [],
      "source": [
        "# Définition des méthodes supplémentaires pour le décodeur\n",
        "\n",
        "# Cette méthode initialise l'état du décodeur avant la traduction\n",
        "@Decoder.add_method\n",
        "def get_initial_state(self, context):\n",
        "  # Obtenir la taille du batch à partir du contexte\n",
        "  batch_size = tf.shape(context)[0]\n",
        "  # Créer le token de départ pour chaque séquence du batch\n",
        "  start_tokens = tf.fill([batch_size, 1], self.start_token)\n",
        "  # Initialiser la variable \"done\" à faux pour toutes les séquences\n",
        "  done = tf.zeros([batch_size, 1], dtype=tf.bool)\n",
        "  # Convertir les tokens de départ en embeddings\n",
        "  embedded = self.embedding(start_tokens)\n",
        "  # Retourner le token de départ, la variable \"done\", et l'état initial du RNN\n",
        "  return start_tokens, done, self.rnn.get_initial_state(embedded)[0]\n",
        "\n",
        "# Convertir les tokens en texte\n",
        "@Decoder.add_method\n",
        "def tokens_to_text(self, tokens):\n",
        "  # Convertir les identifiants de tokens en mots\n",
        "  words = self.id_to_word(tokens)\n",
        "  # Joindre les mots pour former une phrase\n",
        "  result = tf.strings.reduce_join(words, axis=-1, separator=' ')\n",
        "  # Retirer les tokens de départ et de fin\n",
        "  result = tf.strings.regex_replace(result, '^ *\\[START\\] *', '')\n",
        "  result = tf.strings.regex_replace(result, ' *\\[END\\] *$', '')\n",
        "  return result\n",
        "\n",
        "# Prédire le prochain token\n",
        "@Decoder.add_method\n",
        "def get_next_token(self, context, next_token, done, state, temperature = 0.0):\n",
        "  # Obtenir les logits et l'état du décodeur\n",
        "  logits, state = self(\n",
        "    context, next_token,\n",
        "    state = state,\n",
        "    return_state=True)\n",
        "\n",
        "  # Si la température est égale à 0, choisir le token avec la probabilité la plus élevée\n",
        "  if temperature == 0.0:\n",
        "    next_token = tf.argmax(logits, axis=-1)\n",
        "  else:\n",
        "    # Sinon, choisir un token de manière aléatoire en fonction des logits\n",
        "    logits = logits[:, -1, :]/temperature\n",
        "    next_token = tf.random.categorical(logits, num_samples=1)\n",
        "\n",
        "  # Si un token de fin est généré, mettre à jour la variable \"done\"\n",
        "  done = done | (next_token == self.end_token)\n",
        "  # Si une séquence est terminée, produire uniquement du padding\n",
        "  next_token = tf.where(done, tf.constant(0, dtype=tf.int64), next_token)\n",
        "\n",
        "  return next_token, done, state"
      ]
    },
    {
      "cell_type": "code",
      "execution_count": null,
      "metadata": {
        "colab": {
          "base_uri": "https://localhost:8080/"
        },
        "id": "iaLIgphA8SrR",
        "outputId": "0851238f-b615-4063-8947-481f6395318f"
      },
      "outputs": [
        {
          "data": {
            "text/plain": [
              "array([b'seeing require embarrassed laundry guy relationship consult terrified degree proceed',\n",
              "       b'thanked trouble ignoring summer instruments message child duck u tennis',\n",
              "       b'stuck stew flexible monkeys chubby construction bees mostly gets cello'],\n",
              "      dtype=object)"
            ]
          },
          "execution_count": 168,
          "metadata": {},
          "output_type": "execute_result"
        }
      ],
      "source": [
        "# Initialiser les variables pour la boucle de traduction\n",
        "next_token, done, state = decoder.get_initial_state(ex_context)\n",
        "tokens = []\n",
        "\n",
        "# Boucle pour générer une traduction\n",
        "for n in range(10):\n",
        "  # Obtenir le prochain token\n",
        "  next_token, done, state = decoder.get_next_token(\n",
        "      ex_context, next_token, done, state, temperature=1.0)\n",
        "  # Ajouter le token à la liste des tokens\n",
        "  tokens.append(next_token)\n",
        "\n",
        "# Concaténer tous les tokens pour obtenir la traduction complète\n",
        "tokens = tf.concat(tokens, axis=-1) # (batch, t)\n",
        "\n",
        "# Convertir les tokens en texte\n",
        "result = decoder.tokens_to_text(tokens)\n",
        "result[:3].numpy()"
      ]
    },
    {
      "cell_type": "markdown",
      "metadata": {
        "id": "K4_jXHj3Dqzi"
      },
      "source": [
        "# Le modèle"
      ]
    },
    {
      "cell_type": "markdown",
      "metadata": {
        "id": "hK0RD0I-x0ty"
      },
      "source": [
        "\n",
        "Dans cette partie, nous créons une classe `Translator` pour combiner l'encodeur et le décodeur en un modèle complet de traduction. La classe `Translator` hérite de `tf.keras.Model`, ce qui nous permet de définir la méthode `call` pour exécuter la traduction.\n",
        "\n",
        "La méthode `call` prend en entrée un tuple `inputs` contenant le contexte et la séquence cible `x`. Elle effectue les opérations suivantes :\n",
        "\n",
        "1. Exécuter l'encodeur pour obtenir le contexte encodé à partir du contexte d'entrée (`context = self.encoder(context)`).\n",
        "2. Exécuter le décodeur pour obtenir les logits de sortie en utilisant le contexte encodé et la séquence cible (`logits = self.decoder(context, x)`).\n",
        "\n",
        "Nous définissons également une méthode de traduction (`translate`) pour le modèle `Translator`. Cette méthode prend un texte brut en entrée et renvoie sa traduction en utilisant le modèle entraîné. Elle utilise l'encodeur pour convertir le texte brut en sa représentation encodée (`context = self.encoder.convert_input(texts)`), puis utilise le décodeur pour générer la traduction mot par mot en utilisant la méthode `get_next_token` du décodeur.\n",
        "\n",
        "Nous ajoutons également une méthode pour visualiser l'attention pendant la traduction (`plot_attention`). Cette méthode prend un texte brut en entrée, utilise le modèle pour le traduire, et affiche les poids d'attention sur une matrice pour visualiser quelles parties du contexte ont été utilisées pour générer chaque mot de la traduction.\n"
      ]
    },
    {
      "cell_type": "code",
      "execution_count": null,
      "metadata": {
        "id": "_ndxCJis8Stq"
      },
      "outputs": [],
      "source": [
        "# Classe Translator pour combiner l'encodeur et le décodeur\n",
        "class Translator(tf.keras.Model):\n",
        "  @classmethod\n",
        "  def add_method(cls, fun):\n",
        "    setattr(cls, fun.__name__, fun)\n",
        "    return fun\n",
        "\n",
        "  def __init__(self, units,\n",
        "               context_text_processor,\n",
        "               target_text_processor):\n",
        "    super().__init__()\n",
        "    # Construire l'encodeur et le décodeur\n",
        "    encoder = Encoder(context_text_processor, units)\n",
        "    decoder = Decoder(target_text_processor, units)\n",
        "\n",
        "    self.encoder = encoder\n",
        "    self.decoder = decoder\n",
        "\n",
        "  # Définition de la méthode \"call\" pour exécuter la traduction\n",
        "  def call(self, inputs):\n",
        "    context, x = inputs\n",
        "    # Exécuter l'encodeur pour obtenir le contexte encodé\n",
        "    context = self.encoder(context)\n",
        "    # Exécuter le décodeur pour obtenir les logits\n",
        "    logits = self.decoder(context, x)\n",
        "\n",
        "    # Suppression du masque Keras (note spécifique au code, probablement liée à une contrainte technique)\n",
        "    try:\n",
        "      del logits._keras_mask\n",
        "    except AttributeError:\n",
        "      pass\n",
        "\n",
        "    return logits"
      ]
    },
    {
      "cell_type": "code",
      "execution_count": null,
      "metadata": {
        "colab": {
          "base_uri": "https://localhost:8080/"
        },
        "id": "6tzdO7A-8Sv_",
        "outputId": "340b48e2-293f-4dbc-9d42-d67d1f992e5d"
      },
      "outputs": [
        {
          "name": "stdout",
          "output_type": "stream",
          "text": [
            "Context tokens, shape: (batch, s, units) (64, 16)\n",
            "Target tokens, shape: (batch, t) (64, 13)\n",
            "logits, shape: (batch, t, target_vocabulary_size) (64, 13, 5000)\n"
          ]
        }
      ],
      "source": [
        "# Création d'une instance du modèle Translator et test sur un exemple\n",
        "model = Translator(UNITS, context_text_processor, target_text_processor)\n",
        "\n",
        "logits = model((ex_context_tok, ex_tar_in))\n",
        "\n",
        "print(f'Context tokens, shape: (batch, s, units) {ex_context_tok.shape}')\n",
        "print(f'Target tokens, shape: (batch, t) {ex_tar_in.shape}')\n",
        "print(f'logits, shape: (batch, t, target_vocabulary_size) {logits.shape}')"
      ]
    },
    {
      "cell_type": "markdown",
      "metadata": {
        "id": "FwBXWNBpDthC"
      },
      "source": [
        "## Entraînement"
      ]
    },
    {
      "cell_type": "markdown",
      "metadata": {
        "id": "lxSon2-bx2Aq"
      },
      "source": [
        "\n",
        "Dans cette sous-partie, nous définissons les fonctions de perte et de précision personnalisées pour le modèle, adaptées au processus d'entraînement du modèle de séquence à séquence.\n",
        "\n",
        "- La fonction `masked_loss` calcule la perte en ignorant les tokens de padding. Cela est nécessaire car les séquences cibles peuvent avoir des longueurs différentes et sont complétées par des tokens de padding. En masquant ces tokens de padding, la perte n'est calculée que sur les tokens pertinents.\n",
        "\n",
        "- La fonction `masked_acc` calcule la précision en ignorant également les tokens de padding. Tout comme la perte masquée, la précision masquée s'assure que la métrique n'est calculée que sur les tokens pertinents et ignore les tokens de padding.\n",
        "\n",
        "Ensuite, nous compilons le modèle en utilisant un optimiseur, la fonction de perte masquée et les métriques masquées. Nous utilisons l'optimiseur Adam pour les mises à jour des poids, et nous utilisons les fonctions de perte et de précision masquées pour évaluer les erreurs du modèle et surveiller sa performance pendant l'entraînement.\n",
        "\n",
        "Enfin, nous évaluons la performance du modèle sur un jeu de données de validation pour voir ses performances initiales avant l'entraînement.\n",
        "\n",
        "Nous utilisons ensuite la méthode `fit` pour entraîner le modèle sur les données d'entraînement. Nous répétons les données d'entraînement pour plusieurs époques et utilisons la validation pour surveiller la performance. Nous utilisons également le rappel `tf.keras.callbacks.EarlyStopping` pour arrêter l'entraînement si la perte ne s'améliore pas pendant un certain nombre d'époques consécutives. Ceci évite un surapprentissage inutile et nous permet de choisir le meilleur modèle en fonction de la performance sur les données de validation.\n"
      ]
    },
    {
      "cell_type": "code",
      "execution_count": null,
      "metadata": {
        "id": "fgWxESNN8SyZ"
      },
      "outputs": [],
      "source": [
        "# Définir les fonctions de perte et de précision pour le modèle\n",
        "\n",
        "\n",
        "# La fonction \"masked_loss\" est conçue pour calculer la perte en ignorant les tokens de padding.\n",
        "# Cela est nécessaire car lors de l'entraînement d'un modèle de séquence à séquence,\n",
        "# les séquences peuvent avoir des longueurs différentes et sont complétées par des tokens de padding.\n",
        "# En masquant ces tokens de padding, on s'assure que la perte n'est calculée que sur les tokens pertinents.\n",
        "\n",
        "def masked_loss(y_true, y_pred):\n",
        "    # Calcul de la perte pour chaque élément du batch\n",
        "    loss_fn = tf.keras.losses.SparseCategoricalCrossentropy(\n",
        "        from_logits=True, reduction='none')\n",
        "    loss = loss_fn(y_true, y_pred)\n",
        "\n",
        "    # Mask off the losses on padding.\n",
        "    mask = tf.cast(y_true != 0, loss.dtype)\n",
        "    loss *= mask\n",
        "\n",
        "    # On retourne le résultat\n",
        "    return tf.reduce_sum(loss)/tf.reduce_sum(mask)\n",
        "\n",
        "# La fonction \"masked_acc\" est conçue pour calculer la précision en ignorant également les tokens de padding.\n",
        "# Tout comme la perte masquée, la précision masquée s'assure que la métrique n'est calculée que sur\n",
        "# les tokens pertinents et ignore les tokens de padding.\n",
        "\n",
        "def masked_acc(y_true, y_pred):\n",
        "    # Calcul de la perte pour chaque élément du batch\n",
        "    y_pred = tf.argmax(y_pred, axis=-1)\n",
        "    y_pred = tf.cast(y_pred, y_true.dtype)\n",
        "\n",
        "    match = tf.cast(y_true == y_pred, tf.float32)\n",
        "    mask = tf.cast(y_true != 0, tf.float32)\n",
        "\n",
        "    return tf.reduce_sum(match)/tf.reduce_sum(mask)"
      ]
    },
    {
      "cell_type": "code",
      "execution_count": null,
      "metadata": {
        "id": "00J0x_xk8S0x"
      },
      "outputs": [],
      "source": [
        "# Compiler le modèle avec un optimiseur, une fonction de perte et des métriques\n",
        "\n",
        "# La méthode compile configure le processus d'apprentissage du modèle\n",
        "model.compile(optimizer='adam', # Utilise l'optimiseur \"adam\" pour les mises à jour des poids\n",
        "              loss=masked_loss, # Fonction de perte personnalisée pour évaluer les erreurs du modèle\n",
        "              metrics=[masked_acc, masked_loss]) # Métriques pour surveiller la performance pendant l'entraînement"
      ]
    },
    {
      "cell_type": "code",
      "execution_count": null,
      "metadata": {
        "colab": {
          "base_uri": "https://localhost:8080/"
        },
        "id": "jzNoZJas8S1z",
        "outputId": "d760111d-d14b-48f6-cfb7-8df38a1e216e"
      },
      "outputs": [
        {
          "data": {
            "text/plain": [
              "{'expected_loss': 8.517193, 'expected_acc': 0.0002}"
            ]
          },
          "execution_count": 173,
          "metadata": {},
          "output_type": "execute_result"
        }
      ],
      "source": [
        "# Calculer la taille du vocabulaire cible\n",
        "\n",
        "# Obtenir la taille du vocabulaire à partir du processeur de texte\n",
        "vocab_size = 1.0 * target_text_processor.vocabulary_size()\n",
        "\n",
        "# Calculer la perte et la précision attendues pour un modèle qui prédit les sorties au hasard\n",
        "{\"expected_loss\": tf.math.log(vocab_size).numpy(),\n",
        " \"expected_acc\": 1/vocab_size}"
      ]
    },
    {
      "cell_type": "code",
      "execution_count": null,
      "metadata": {
        "colab": {
          "base_uri": "https://localhost:8080/"
        },
        "id": "uOfrjzER8cMm",
        "outputId": "db1a7447-b55b-4974-c47e-127119c35461"
      },
      "outputs": [
        {
          "name": "stdout",
          "output_type": "stream",
          "text": [
            "20/20 [==============================] - 11s 172ms/step - loss: 8.5151 - masked_acc: 0.0000e+00 - masked_loss: 8.5151\n",
            "Epoch 1/100\n",
            "100/100 [==============================] - 65s 514ms/step - loss: 4.9147 - masked_acc: 0.2720 - masked_loss: 4.9147 - val_loss: 3.9751 - val_masked_acc: 0.3646 - val_masked_loss: 3.9751\n",
            "Epoch 2/100\n",
            "100/100 [==============================] - 51s 507ms/step - loss: 3.5843 - masked_acc: 0.4169 - masked_loss: 3.5843 - val_loss: 3.2326 - val_masked_acc: 0.4627 - val_masked_loss: 3.2326\n",
            "Epoch 3/100\n",
            "100/100 [==============================] - 49s 492ms/step - loss: 3.0140 - masked_acc: 0.4940 - masked_loss: 3.0140 - val_loss: 2.7687 - val_masked_acc: 0.5311 - val_masked_loss: 2.7687\n",
            "Epoch 4/100\n",
            "100/100 [==============================] - 51s 513ms/step - loss: 2.6464 - masked_acc: 0.5456 - masked_loss: 2.6464 - val_loss: 2.4857 - val_masked_acc: 0.5618 - val_masked_loss: 2.4857\n",
            "Epoch 5/100\n",
            "100/100 [==============================] - 51s 514ms/step - loss: 2.3581 - masked_acc: 0.5849 - masked_loss: 2.3581 - val_loss: 2.2379 - val_masked_acc: 0.6007 - val_masked_loss: 2.2379\n",
            "Epoch 6/100\n",
            "100/100 [==============================] - 48s 477ms/step - loss: 2.1318 - masked_acc: 0.6156 - masked_loss: 2.1318 - val_loss: 2.0245 - val_masked_acc: 0.6337 - val_masked_loss: 2.0245\n",
            "Epoch 7/100\n",
            "100/100 [==============================] - 49s 493ms/step - loss: 1.9884 - masked_acc: 0.6362 - masked_loss: 1.9884 - val_loss: 1.8871 - val_masked_acc: 0.6594 - val_masked_loss: 1.8871\n",
            "Epoch 8/100\n",
            "100/100 [==============================] - 50s 499ms/step - loss: 1.8364 - masked_acc: 0.6597 - masked_loss: 1.8364 - val_loss: 1.7899 - val_masked_acc: 0.6631 - val_masked_loss: 1.7899\n",
            "Epoch 9/100\n",
            "100/100 [==============================] - 51s 507ms/step - loss: 1.7874 - masked_acc: 0.6676 - masked_loss: 1.7874 - val_loss: 1.6755 - val_masked_acc: 0.6816 - val_masked_loss: 1.6755\n",
            "Epoch 10/100\n",
            "100/100 [==============================] - 51s 504ms/step - loss: 1.6771 - masked_acc: 0.6825 - masked_loss: 1.6771 - val_loss: 1.6352 - val_masked_acc: 0.6835 - val_masked_loss: 1.6352\n",
            "Epoch 11/100\n",
            "100/100 [==============================] - 51s 510ms/step - loss: 1.6106 - masked_acc: 0.6905 - masked_loss: 1.6106 - val_loss: 1.5786 - val_masked_acc: 0.6914 - val_masked_loss: 1.5786\n",
            "Epoch 12/100\n",
            "100/100 [==============================] - 48s 478ms/step - loss: 1.5805 - masked_acc: 0.6944 - masked_loss: 1.5805 - val_loss: 1.5322 - val_masked_acc: 0.7033 - val_masked_loss: 1.5322\n",
            "Epoch 13/100\n",
            "100/100 [==============================] - 49s 494ms/step - loss: 1.5185 - masked_acc: 0.7022 - masked_loss: 1.5185 - val_loss: 1.4451 - val_masked_acc: 0.7132 - val_masked_loss: 1.4451\n",
            "Epoch 14/100\n",
            "100/100 [==============================] - 49s 489ms/step - loss: 1.4752 - masked_acc: 0.7087 - masked_loss: 1.4752 - val_loss: 1.4272 - val_masked_acc: 0.7221 - val_masked_loss: 1.4272\n",
            "Epoch 15/100\n",
            "100/100 [==============================] - 49s 492ms/step - loss: 1.4560 - masked_acc: 0.7129 - masked_loss: 1.4560 - val_loss: 1.3964 - val_masked_acc: 0.7240 - val_masked_loss: 1.3964\n",
            "Epoch 16/100\n",
            "100/100 [==============================] - 50s 505ms/step - loss: 1.4282 - masked_acc: 0.7172 - masked_loss: 1.4282 - val_loss: 1.3524 - val_masked_acc: 0.7262 - val_masked_loss: 1.3524\n",
            "Epoch 17/100\n",
            "100/100 [==============================] - 50s 501ms/step - loss: 1.3997 - masked_acc: 0.7184 - masked_loss: 1.3997 - val_loss: 1.3934 - val_masked_acc: 0.7221 - val_masked_loss: 1.3934\n",
            "Epoch 18/100\n",
            "100/100 [==============================] - 48s 478ms/step - loss: 1.3454 - masked_acc: 0.7280 - masked_loss: 1.3454 - val_loss: 1.3266 - val_masked_acc: 0.7344 - val_masked_loss: 1.3266\n",
            "Epoch 19/100\n",
            "100/100 [==============================] - 51s 510ms/step - loss: 1.3488 - masked_acc: 0.7286 - masked_loss: 1.3488 - val_loss: 1.2869 - val_masked_acc: 0.7341 - val_masked_loss: 1.2869\n",
            "Epoch 20/100\n",
            "100/100 [==============================] - 52s 519ms/step - loss: 1.3249 - masked_acc: 0.7299 - masked_loss: 1.3249 - val_loss: 1.2868 - val_masked_acc: 0.7352 - val_masked_loss: 1.2868\n",
            "Epoch 21/100\n",
            "100/100 [==============================] - 51s 509ms/step - loss: 1.2901 - masked_acc: 0.7369 - masked_loss: 1.2901 - val_loss: 1.2611 - val_masked_acc: 0.7406 - val_masked_loss: 1.2611\n",
            "Epoch 22/100\n",
            "100/100 [==============================] - 49s 488ms/step - loss: 1.2539 - masked_acc: 0.7401 - masked_loss: 1.2539 - val_loss: 1.2532 - val_masked_acc: 0.7414 - val_masked_loss: 1.2532\n",
            "Epoch 23/100\n",
            "100/100 [==============================] - 49s 494ms/step - loss: 1.2377 - masked_acc: 0.7430 - masked_loss: 1.2377 - val_loss: 1.1714 - val_masked_acc: 0.7528 - val_masked_loss: 1.1714\n",
            "Epoch 24/100\n",
            "100/100 [==============================] - 53s 532ms/step - loss: 1.2399 - masked_acc: 0.7411 - masked_loss: 1.2399 - val_loss: 1.2371 - val_masked_acc: 0.7439 - val_masked_loss: 1.2371\n",
            "Epoch 25/100\n",
            "100/100 [==============================] - 50s 505ms/step - loss: 1.2111 - masked_acc: 0.7475 - masked_loss: 1.2111 - val_loss: 1.1819 - val_masked_acc: 0.7515 - val_masked_loss: 1.1819\n",
            "Epoch 26/100\n",
            "100/100 [==============================] - 48s 480ms/step - loss: 1.2101 - masked_acc: 0.7466 - masked_loss: 1.2101 - val_loss: 1.2045 - val_masked_acc: 0.7485 - val_masked_loss: 1.2045\n"
          ]
        }
      ],
      "source": [
        "# Évaluer la performance du modèle sur un jeu de données de validation\n",
        "\n",
        "# Évalue la performance actuelle du modèle sur les données de validation\n",
        "model.evaluate(val_ds, steps=20, return_dict=True)\n",
        "\n",
        "# Entraîner le modèle\n",
        "\n",
        "# Utiliser la méthode \"fit\" pour entraîner le modèle sur les données d'entraînement\n",
        "history = model.fit(\n",
        "    train_ds.repeat(), # Répète les données d'entraînement pour plusieurs passages (époques)\n",
        "    epochs=100, # Nombre d'époques d'entraînement\n",
        "    steps_per_epoch = 100, # Nombre de lots traités avant d'aller à l'époque suivante\n",
        "    validation_data=val_ds, # Données utilisées pour la validation\n",
        "    validation_steps = 20, # Nombre de lots de validation à utiliser à chaque époque\n",
        "    callbacks=[ # Mécanismes pour intervenir pendant l'entraînement\n",
        "        tf.keras.callbacks.EarlyStopping(patience=3)]) # Arrête l'entraînement si la perte ne s'améliore pas pendant 3 époques consécutives"
      ]
    },
    {
      "cell_type": "markdown",
      "metadata": {
        "id": "zd5blPXMCRjd"
      },
      "source": [
        "## Visualisation des résultats"
      ]
    },
    {
      "cell_type": "markdown",
      "metadata": {
        "id": "vV0gACWOx3vk"
      },
      "source": [
        "\n",
        "Dans cette sous-partie, nous visualisons les résultats de l'entraînement en affichant les courbes de perte et de précision pendant l'entraînement. Cela nous permet de voir comment la perte et la précision évoluent au fur et à mesure des époques, ce qui est utile pour évaluer la performance du modèle.\n"
      ]
    },
    {
      "cell_type": "code",
      "execution_count": null,
      "metadata": {
        "colab": {
          "base_uri": "https://localhost:8080/",
          "height": 466
        },
        "id": "YpUr8Fhu-KnH",
        "outputId": "5f42b645-c9c4-4266-ab24-f3c607dd8046"
      },
      "outputs": [
        {
          "data": {
            "text/plain": [
              "<matplotlib.legend.Legend at 0x7ed18de60310>"
            ]
          },
          "execution_count": 175,
          "metadata": {},
          "output_type": "execute_result"
        },
        {
          "data": {
            "image/png": "[encoded data removed]",
            "text/plain": [
              "<Figure size 640x480 with 1 Axes>"
            ]
          },
          "metadata": {},
          "output_type": "display_data"
        }
      ],
      "source": [
        "# Afficher la courbe de la perte pendant l'entraînement\n",
        "plt.plot(history.history['loss'], label='loss') # Courbe de la perte d'entraînement\n",
        "plt.plot(history.history['val_loss'], label='val_loss') # Courbe de la perte de validation\n",
        "plt.ylim([0, max(plt.ylim())])\n",
        "plt.xlabel('Epoch #') # Axe des abscisses\n",
        "plt.ylabel('CE/token') # Axe des ordonnées\n",
        "plt.legend()"
      ]
    },
    {
      "cell_type": "code",
      "execution_count": null,
      "metadata": {
        "colab": {
          "base_uri": "https://localhost:8080/",
          "height": 466
        },
        "id": "1Nnzh1G7DyJF",
        "outputId": "20250f7d-a12b-417e-c9f9-a21b54f894f9"
      },
      "outputs": [
        {
          "data": {
            "text/plain": [
              "<matplotlib.legend.Legend at 0x7ed18ee39630>"
            ]
          },
          "execution_count": 176,
          "metadata": {},
          "output_type": "execute_result"
        },
        {
          "data": {
            "image/png": "[encoded data removed]",
            "text/plain": [
              "<Figure size 640x480 with 1 Axes>"
            ]
          },
          "metadata": {},
          "output_type": "display_data"
        }
      ],
      "source": [
        "# Afficher la courbe de la précision pendant l'entraînement\n",
        "plt.plot(history.history['masked_acc'], label='accuracy') # Courbe de la précision d'entraînement\n",
        "plt.plot(history.history['val_masked_acc'], label='val_accuracy') # Courbe de la précision de validation\n",
        "plt.ylim([0, max(plt.ylim())])\n",
        "plt.xlabel('Epoch #')\n",
        "plt.ylabel('CE/token')\n",
        "plt.legend()"
      ]
    },
    {
      "cell_type": "markdown",
      "metadata": {
        "id": "4aTjvpR9D2ec"
      },
      "source": [
        "## Traduction"
      ]
    },
    {
      "cell_type": "markdown",
      "metadata": {
        "id": "cAnCEum0x5GA"
      },
      "source": [
        "\n",
        "Enfin, dans cette sous-partie, nous ajoutons une méthode de traduction à la classe `Translator`. Cette méthode prend en entrée un texte brut et renvoie sa traduction en utilisant le modèle entraîné.\n",
        "\n",
        "Nous utilisons l'encodeur pour convertir le texte brut en sa représentation encodée. Ensuite, nous initialisons les variables pour la boucle de génération de tokens et itérons pour générer le prochain token jusqu'à atteindre la longueur maximale de la sortie ou jusqu'à ce que toutes les séquences soient terminées. Nous utilisons la méthode `get_next_token` du décodeur pour générer le prochain token en fonction des poids d'attention calculés par la couche d'attention. Finalement, nous concaténons les listes de tokens pour obtenir la traduction complète et la renvoyons.\n",
        "\n",
        "Nous ajoutons également une méthode `plot_attention` pour visualiser les poids d'attention lors de la traduction. Cette méthode prend un texte brut en entrée, utilise le modèle pour le traduire, et affiche les poids d'attention sur une matrice pour visualiser quelles parties du contexte ont été utilisées pour générer chaque mot de la traduction.\n"
      ]
    },
    {
      "cell_type": "code",
      "execution_count": null,
      "metadata": {
        "id": "zowbzAUA8cO8"
      },
      "outputs": [],
      "source": [
        "# Ajouter une méthode de traduction à la classe Translator\n",
        "\n",
        "@Translator.add_method\n",
        "def translate(self,\n",
        "              texts, *,\n",
        "              max_length=50, # Longueur maximale de la sortie\n",
        "              temperature=0.0): # Paramètre pour contrôler la diversité de la sortie\n",
        "  # Convertit le texte brut en représentation encodée\n",
        "  context = self.encoder.convert_input(texts)\n",
        "  batch_size = tf.shape(texts)[0] # Obtenir la taille du lot\n",
        "\n",
        "  # Initialiser les variables pour la boucle de génération de tokens\n",
        "  tokens = []\n",
        "  attention_weights = []\n",
        "  next_token, done, state = self.decoder.get_initial_state(context)\n",
        "\n",
        "  for _ in range(max_length):\n",
        "    # Générer le token suivant\n",
        "    next_token, done, state = self.decoder.get_next_token(\n",
        "        context, next_token, done, state, temperature)\n",
        "\n",
        "    # Ajouter le token et les poids d'attention à leurs listes respectives\n",
        "    tokens.append(next_token)\n",
        "    attention_weights.append(self.decoder.last_attention_weights)\n",
        "\n",
        "    # Arrêter la génération si tous les textes sont finis\n",
        "    if tf.executing_eagerly() and tf.reduce_all(done):\n",
        "      break\n",
        "\n",
        "  # Concaténer les listes de tokens et de poids d'attention\n",
        "  tokens = tf.concat(tokens, axis=-1)\n",
        "  self.last_attention_weights = tf.concat(attention_weights, axis=1)\n",
        "\n",
        "  # Convertir les tokens en texte\n",
        "  result = self.decoder.tokens_to_text(tokens)\n",
        "  return result"
      ]
    },
    {
      "cell_type": "code",
      "execution_count": null,
      "metadata": {
        "colab": {
          "base_uri": "https://localhost:8080/",
          "height": 35
        },
        "id": "AsqFEyhr8cRO",
        "outputId": "5235f329-3438-42de-84ef-f23e55f24ca7"
      },
      "outputs": [
        {
          "data": {
            "application/vnd.google.colaboratory.intrinsic+json": {
              "type": "string"
            },
            "text/plain": [
              "'i like apples . '"
            ]
          },
          "execution_count": 178,
          "metadata": {},
          "output_type": "execute_result"
        }
      ],
      "source": [
        "# Tester la méthode de traduction\n",
        "\n",
        "# Traduire un exemple de phrase\n",
        "result = model.translate(['J\\'aime les pommes.'])\n",
        "# Afficher la traduction\n",
        "result[0].numpy().decode()"
      ]
    },
    {
      "cell_type": "code",
      "execution_count": null,
      "metadata": {
        "id": "zZ46Tc768cTc"
      },
      "outputs": [],
      "source": [
        "# Ajouter une méthode pour visualiser l'attention lors de la traduction\n",
        "\n",
        "@Translator.add_method\n",
        "def plot_attention(self, text, **kwargs):\n",
        "  # Assurez-vous que le texte est une chaîne\n",
        "  assert isinstance(text, str)\n",
        "  # Obtenir la traduction du texte\n",
        "  output = self.translate([text], **kwargs)\n",
        "  output = output[0].numpy().decode()\n",
        "\n",
        "  attention = self.last_attention_weights[0] # Récupérer les poids d'attention\n",
        "\n",
        "  # Prétraitement des textes pour l'affichage\n",
        "  context = tf_lower_and_split_punct(text)\n",
        "  context = context.numpy().decode().split()\n",
        "  output = tf_lower_and_split_punct(output)\n",
        "  output = output.numpy().decode().split()[1:]\n",
        "\n",
        "  # Créer un graphique pour visualiser les poids d'attention\n",
        "  fig = plt.figure(figsize=(10, 10))\n",
        "  ax = fig.add_subplot(1, 1, 1)\n",
        "  ax.matshow(attention, cmap='viridis', vmin=0.0)\n",
        "  fontdict = {'fontsize': 14}\n",
        "  ax.set_xticklabels([''] + context, fontdict=fontdict, rotation=90)\n",
        "  ax.set_yticklabels([''] + output, fontdict=fontdict)\n",
        "  ax.xaxis.set_major_locator(ticker.MultipleLocator(1))\n",
        "  ax.yaxis.set_major_locator(ticker.MultipleLocator(1))\n",
        "  ax.set_xlabel('Texte en entrée')\n",
        "  ax.set_ylabel('Texte en sortie')"
      ]
    },
    {
      "cell_type": "markdown",
      "metadata": {
        "id": "jhtKoelxEgUH"
      },
      "source": [
        "## Visualiser l'attention"
      ]
    },
    {
      "cell_type": "markdown",
      "metadata": {
        "id": "EHsLlpn6x6ZB"
      },
      "source": [
        "Dans cette sous-partie, nous testons la visualisation des poids d'attention pendant la traduction. Nous utilisons la méthode `plot_attention` du modèle pour afficher les poids d'attention entre le texte d'entrée et la traduction générée. Nous testons d'abord sur un exemple court, puis sur un texte plus long.\n"
      ]
    },
    {
      "cell_type": "code",
      "execution_count": null,
      "metadata": {
        "colab": {
          "base_uri": "https://localhost:8080/",
          "height": 888
        },
        "id": "yMU21cKlEer_",
        "outputId": "1dc2e402-acf5-49e1-df6a-cdbbd13e4b7c"
      },
      "outputs": [
        {
          "name": "stderr",
          "output_type": "stream",
          "text": [
            "<ipython-input-179-0737ce3acf21>:24: UserWarning: FixedFormatter should only be used together with FixedLocator\n",
            "  ax.set_xticklabels([''] + context, fontdict=fontdict, rotation=90)\n",
            "<ipython-input-179-0737ce3acf21>:25: UserWarning: FixedFormatter should only be used together with FixedLocator\n",
            "  ax.set_yticklabels([''] + output, fontdict=fontdict)\n"
          ]
        },
        {
          "data": {
            "image/png": "[encoded data removed]",
            "text/plain": [
              "<Figure size 1000x1000 with 1 Axes>"
            ]
          },
          "metadata": {},
          "output_type": "display_data"
        }
      ],
      "source": [
        "# Tester la visualisation de l'attention\n",
        "model.plot_attention('J\\'aime les pommes rouges.')"
      ]
    },
    {
      "cell_type": "code",
      "execution_count": null,
      "metadata": {
        "colab": {
          "base_uri": "https://localhost:8080/",
          "height": 670
        },
        "id": "DYluGTZm8cVu",
        "outputId": "c582465f-780e-485b-ceb7-11ab902f9fff"
      },
      "outputs": [
        {
          "name": "stdout",
          "output_type": "stream",
          "text": [
            "Sortie attendue:\n",
            " It may be impossible to get a completely error-free corpus due to the\n",
            "nature of this kind of collaborative effort. However, if we encourage\n",
            "members to contribute sentences in their own languages rather than\n",
            "experiment in languages they are learning, we might be able to\n",
            "minimize errors.\n"
          ]
        },
        {
          "name": "stderr",
          "output_type": "stream",
          "text": [
            "<ipython-input-179-0737ce3acf21>:24: UserWarning: FixedFormatter should only be used together with FixedLocator\n",
            "  ax.set_xticklabels([''] + context, fontdict=fontdict, rotation=90)\n",
            "<ipython-input-179-0737ce3acf21>:25: UserWarning: FixedFormatter should only be used together with FixedLocator\n",
            "  ax.set_yticklabels([''] + output, fontdict=fontdict)\n"
          ]
        },
        {
          "data": {
            "image/png": "[encoded data removed]",
            "text/plain": [
              "<Figure size 1000x1000 with 1 Axes>"
            ]
          },
          "metadata": {},
          "output_type": "display_data"
        }
      ],
      "source": [
        "# Récupérer un long texte pour le test\n",
        "long_text = context_raw[-1]\n",
        "\n",
        "# Afficher la traduction attendue\n",
        "import textwrap\n",
        "print('Sortie attendue:\\n', '\\n'.join(textwrap.wrap(target_raw[-1])))\n",
        "\n",
        "# Tester la visualisation de l'attention sur le long texte\n",
        "model.plot_attention(long_text)"
      ]
    },
    {
      "cell_type": "code",
      "execution_count": null,
      "metadata": {
        "colab": {
          "base_uri": "https://localhost:8080/"
        },
        "id": "IK6psm__8CPs",
        "outputId": "c1dd61c0-0b9a-4b68-a57f-b4372fc797cb"
      },
      "outputs": [
        {
          "name": "stdout",
          "output_type": "stream",
          "text": [
            "i like red apples . \n",
            "who are you ? \n",
            "youre very pretty today . \n",
            "when will you give you ? \n",
            "\n"
          ]
        }
      ],
      "source": [
        "# Préparer quelques entrées pour des tests supplémentaires\n",
        "inputs = [\n",
        "    'J\\'aime les pommes rouges.',\n",
        "    'Qui es tu ?',\n",
        "    'Tu es très jolie aujourd\\'hui.',\n",
        "    'Quand viendras tu ?'\n",
        "]\n",
        "\n",
        "for t in inputs:\n",
        "  print(model.translate([t])[0].numpy().decode())\n",
        "\n",
        "print()"
      ]
    },
    {
      "cell_type": "markdown",
      "metadata": {
        "id": "xU1M27RWVQt7"
      },
      "source": [
        "# Analyse des résultats"
      ]
    },
    {
      "cell_type": "markdown",
      "metadata": {
        "id": "ghhgEhGXx74O"
      },
      "source": [
        "Dans cette partie, nous examinons les résultats de l'entraînement et effectuons différentes analyses sur le modèle.\n"
      ]
    },
    {
      "cell_type": "markdown",
      "metadata": {
        "id": "_SZ4B6T-WF3T"
      },
      "source": [
        "## Histogramme des gradients\n",
        "\n",
        "Ce plot vous donnera une idée de la magnitude des gradients pendant l'entraînement.\n",
        "\n",
        "\n"
      ]
    },
    {
      "cell_type": "markdown",
      "metadata": {
        "id": "vx9-m1XZx87r"
      },
      "source": [
        "Nous affichons un histogramme des normes des gradients pour avoir une idée de leur magnitude pendant l'entraînement. Cela peut nous aider à vérifier si les gradients sont trop petits ou trop grands, ce qui pourrait affecter la convergence de l'entraînement.\n"
      ]
    },
    {
      "cell_type": "code",
      "execution_count": null,
      "metadata": {
        "colab": {
          "base_uri": "https://localhost:8080/",
          "height": 472
        },
        "id": "0B_GBjmaWDZC",
        "outputId": "c6f26876-34c0-4ec2-b48e-eb6dfb350d7e"
      },
      "outputs": [
        {
          "data": {
            "image/png": "[encoded data removed]",
            "text/plain": [
              "<Figure size 640x480 with 1 Axes>"
            ]
          },
          "metadata": {},
          "output_type": "display_data"
        }
      ],
      "source": [
        "def plot_gradient_histogram(model):\n",
        "    with tf.GradientTape() as tape:\n",
        "        logits = model((ex_context_tok, ex_tar_in))\n",
        "        loss_value = masked_loss(ex_tar_out, logits)\n",
        "\n",
        "    grads = tape.gradient(loss_value, model.trainable_variables)\n",
        "    gradients = [tf.norm(grad).numpy() for grad in grads if grad is not None]\n",
        "\n",
        "    plt.hist(gradients, bins=50)\n",
        "    plt.xlabel('Gradient Norm')\n",
        "    plt.ylabel('Frequency')\n",
        "    plt.title('Histogram of Gradients')\n",
        "    plt.show()\n",
        "\n",
        "# Exemple d'utilisation après chaque époque ou itération :\n",
        "plot_gradient_histogram(model)\n"
      ]
    },
    {
      "cell_type": "markdown",
      "metadata": {
        "id": "qXXH_VUMaVAX"
      },
      "source": [
        "## Courbe de perte par epoch\n"
      ]
    },
    {
      "cell_type": "markdown",
      "metadata": {
        "id": "QWCkI73mx_zo"
      },
      "source": [
        "Nous traçons une courbe pour visualiser l'évolution de la perte d'entraînement et de la perte de validation au fil des époques. Cela nous permet de voir comment la perte change pendant l'entraînement et d'identifier toute tendance de surapprentissage ou de sous-apprentissage.\n"
      ]
    },
    {
      "cell_type": "code",
      "execution_count": null,
      "metadata": {
        "colab": {
          "base_uri": "https://localhost:8080/",
          "height": 472
        },
        "id": "u_99L-LWaNy6",
        "outputId": "e5b45602-f3f9-4a09-df6e-4ec44a90f6ed"
      },
      "outputs": [
        {
          "data": {
            "image/png": "[encoded data removed]",
            "text/plain": [
              "<Figure size 640x480 with 1 Axes>"
            ]
          },
          "metadata": {},
          "output_type": "display_data"
        }
      ],
      "source": [
        "def plot_loss(history):\n",
        "    loss = history.history['loss']\n",
        "    val_loss = history.history['val_loss']\n",
        "    epochs = range(1, len(loss) + 1)\n",
        "    plt.plot(epochs, loss, 'bo', label='Perte (entraînement)')\n",
        "    plt.plot(epochs, val_loss, 'b', label='Perte (validation)')\n",
        "    plt.title('Perte (entraînement et validation)')\n",
        "    plt.xlabel('Epochs')\n",
        "    plt.ylabel('Perte')\n",
        "    plt.legend()\n",
        "    plt.show()\n",
        "\n",
        "plot_loss(history)"
      ]
    },
    {
      "cell_type": "markdown",
      "metadata": {
        "id": "z1I7-PzZaumx"
      },
      "source": [
        "## Courbe de perte en fonction du temps"
      ]
    },
    {
      "cell_type": "markdown",
      "metadata": {
        "id": "bveYpjd7yCex"
      },
      "source": [
        "Nous enregistrons le temps nécessaire pour chaque époque d'entraînement et traçons une courbe pour visualiser la perte en fonction du temps écoulé. Cela nous permet de voir si la perte diminue progressivement au fil du temps et si l'entraînement progresse de manière efficace.\n"
      ]
    },
    {
      "cell_type": "code",
      "execution_count": null,
      "metadata": {
        "colab": {
          "base_uri": "https://localhost:8080/",
          "height": 472
        },
        "id": "F4R72-NPawjH",
        "outputId": "7d4438bd-7b6c-4de7-b494-811798ccbebb"
      },
      "outputs": [
        {
          "data": {
            "image/png": "[encoded data removed]",
            "text/plain": [
              "<Figure size 640x480 with 1 Axes>"
            ]
          },
          "metadata": {},
          "output_type": "display_data"
        }
      ],
      "source": [
        "import time\n",
        "\n",
        "def plot_loss_vs_time(history):\n",
        "    loss = history.history['loss']\n",
        "    timestamps = [time.time() - start_time for start_time in history.epoch]\n",
        "    plt.plot(timestamps, loss, 'bo-')\n",
        "    plt.title('Perte en fonction du temps')\n",
        "    plt.xlabel('Temps (secondes)')\n",
        "    plt.ylabel('Perte')\n",
        "    plt.show()\n",
        "\n",
        "plot_loss_vs_time(history)"
      ]
    },
    {
      "cell_type": "markdown",
      "metadata": {
        "id": "zGtbbbHla1tP"
      },
      "source": [
        "## Histogramme de la distribution des pertes\n",
        "\n"
      ]
    },
    {
      "cell_type": "markdown",
      "metadata": {
        "id": "ocTKnXXSyEuQ"
      },
      "source": [
        "Nous traçons un histogramme pour visualiser la distribution des valeurs de perte pendant l'entraînement. Cela peut nous donner une idée de la variabilité de la perte et de la stabilité de l'entraînement.\n"
      ]
    },
    {
      "cell_type": "code",
      "execution_count": null,
      "metadata": {
        "colab": {
          "base_uri": "https://localhost:8080/",
          "height": 472
        },
        "id": "uOP0wJ7Ha3--",
        "outputId": "6a0d49ae-94b5-48b7-9a75-76572a87cc29"
      },
      "outputs": [
        {
          "data": {
            "image/png": "[encoded data removed]",
            "text/plain": [
              "<Figure size 640x480 with 1 Axes>"
            ]
          },
          "metadata": {},
          "output_type": "display_data"
        }
      ],
      "source": [
        "def plot_loss_distribution(history):\n",
        "    loss = history.history['loss']\n",
        "    plt.hist(loss, bins=10)\n",
        "    plt.title('Distribution de la perte')\n",
        "    plt.xlabel('Perte')\n",
        "    plt.ylabel('Fréquence')\n",
        "    plt.show()\n",
        "\n",
        "plot_loss_distribution(history)"
      ]
    },
    {
      "cell_type": "markdown",
      "metadata": {
        "id": "AIdn3Kb_yPgn"
      },
      "source": [
        "## Enregistrement des résultats\n",
        "\n"
      ]
    },
    {
      "cell_type": "markdown",
      "metadata": {
        "id": "xMoSC0JLyQqP"
      },
      "source": [
        "\n",
        "Enfin, nous enregistrons le modèle entraîné en utilisant la méthode `save` de Keras, ainsi que l'historique d'entraînement sous forme d'un fichier pickle pour pouvoir les réutiliser ultérieurement."
      ]
    },
    {
      "cell_type": "code",
      "execution_count": null,
      "metadata": {
        "colab": {
          "base_uri": "https://localhost:8080/"
        },
        "id": "qGreU1lIyMmi",
        "outputId": "38749301-1bc9-46c9-972d-1b194e74546b"
      },
      "outputs": [
        {
          "name": "stderr",
          "output_type": "stream",
          "text": [
            "WARNING:tensorflow:Model's `__init__()` arguments contain non-serializable objects. Please implement a `get_config()` method in the subclassed Model for proper saving and loading. Defaulting to empty config.\n",
            "WARNING:tensorflow:Model's `__init__()` arguments contain non-serializable objects. Please implement a `get_config()` method in the subclassed Model for proper saving and loading. Defaulting to empty config.\n",
            "WARNING:tensorflow:Model's `__init__()` arguments contain non-serializable objects. Please implement a `get_config()` method in the subclassed Model for proper saving and loading. Defaulting to empty config.\n",
            "WARNING:tensorflow:Model's `__init__()` arguments contain non-serializable objects. Please implement a `get_config()` method in the subclassed Model for proper saving and loading. Defaulting to empty config.\n"
          ]
        }
      ],
      "source": [
        "import pickle\n",
        "\n",
        "# Enregistrer le modèle\n",
        "model.save('nom_du_modele')\n",
        "\n",
        "# Enregistrer l'historique\n",
        "with open('historique.pkl', 'wb') as f:\n",
        "    pickle.dump(history.history, f)"
      ]
    }
  ],
  "metadata": {
    "colab": {
      "provenance": []
    },
    "kernelspec": {
      "display_name": "Python 3 (ipykernel)",
      "language": "python",
      "name": "python3"
    },
    "language_info": {
      "codemirror_mode": {
        "name": "ipython",
        "version": 3
      },
      "file_extension": ".py",
      "mimetype": "text/x-python",
      "name": "python",
      "nbconvert_exporter": "python",
      "pygments_lexer": "ipython3",
      "version": "3.11.3"
    }
  },
  "nbformat": 4,
  "nbformat_minor": 0
}
